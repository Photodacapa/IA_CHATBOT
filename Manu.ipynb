{
  "nbformat": 4,
  "nbformat_minor": 0,
  "metadata": {
    "colab": {
      "provenance": [],
      "authorship_tag": "ABX9TyPtc3bZlmaURTroOffLPnOO",
      "include_colab_link": true
    },
    "kernelspec": {
      "name": "python3",
      "display_name": "Python 3"
    },
    "language_info": {
      "name": "python"
    }
  },
  "cells": [
    {
      "cell_type": "markdown",
      "metadata": {
        "id": "view-in-github",
        "colab_type": "text"
      },
      "source": [
        "<a href=\"https://colab.research.google.com/github/Photodacapa/IA_CHATBOT/blob/main/Manu.ipynb\" target=\"_parent\"><img src=\"https://colab.research.google.com/assets/colab-badge.svg\" alt=\"Open In Colab\"/></a>"
      ]
    },
    {
      "cell_type": "code",
      "execution_count": 2,
      "metadata": {
        "id": "JxWArQipngnD"
      },
      "outputs": [],
      "source": [
        "pip install -q -U google-generativeai"
      ]
    },
    {
      "cell_type": "code",
      "source": [
        "import google.generativeai as genai\n",
        "from google.colab import userdata\n",
        "\n",
        "API_KEY = userdata.get (\"API_KEY\") #Não deixe a segurança de segurança visivel\n",
        "genai.configure(api_key=API_KEY)"
      ],
      "metadata": {
        "id": "rBCDNku4nshg"
      },
      "execution_count": 8,
      "outputs": []
    },
    {
      "cell_type": "code",
      "source": [
        "generation_config = {\n",
        "   \"candidate_count\": 1,\n",
        "   \"temperature\": 0.5,\n",
        "}"
      ],
      "metadata": {
        "id": "6JSiFKX_nubI"
      },
      "execution_count": 4,
      "outputs": []
    },
    {
      "cell_type": "markdown",
      "source": [
        "É possível ajustar as configurações de segurança em quatro dimensões para avaliar rapidamente se o aplicativo exige uma configuração mais ou menos restritiva.\n",
        "\n",
        "Conforme a necessidade do projeto"
      ],
      "metadata": {
        "id": "GDDirOAgnyKw"
      }
    },
    {
      "cell_type": "code",
      "source": [
        "safety_settings = {\n",
        "    \"Harassment\": \"Block_only_high\",  #Bloquear quando houver alta probabilidade de conteúdo não seguro\n",
        "    \"Hate\": \"Block_medium_and_above\", #Bloquear quando houver média ou alta probabilidade de conteúdo não seguro\n",
        "    \"Sexual\": \"Block_low_and_above\",  #Bloquear quando a probabilidade de conteúdo não seguro é baixa, média ou alta\n",
        "    \"Dangerous\": \"Block_only_high\",   #Bloquear quando houver alta probabilidade de conteúdo não seguro\n",
        "}"
      ],
      "metadata": {
        "id": "mate7RxCn1VQ"
      },
      "execution_count": 5,
      "outputs": []
    },
    {
      "cell_type": "code",
      "source": [
        "model = genai.GenerativeModel(model_name=\"gemini-1.0-pro\",\n",
        "                             generation_config=generation_config,\n",
        "                             safety_settings=safety_settings)"
      ],
      "metadata": {
        "id": "EzfAfBy2n4Ho"
      },
      "execution_count": 15,
      "outputs": []
    },
    {
      "cell_type": "code",
      "source": [
        "response = model.generate_content(\"Crie uma lista com bebidas e comidas com a quantidade de cada item para uma festa de casamento com 150 convidados\") #Verificou se o model foi declarado de forma correta\n",
        "print (response.text)"
      ],
      "metadata": {
        "colab": {
          "base_uri": "https://localhost:8080/",
          "height": 642
        },
        "id": "12Nw4twioeOo",
        "outputId": "97c0c707-f4fb-471b-c5c0-ef7f2397f2d0"
      },
      "execution_count": 16,
      "outputs": [
        {
          "output_type": "stream",
          "name": "stdout",
          "text": [
            "**Bebidas**\n",
            "\n",
            "* Cerveja: 500 litros\n",
            "* Vinho tinto: 200 garrafas\n",
            "* Vinho branco: 150 garrafas\n",
            "* Refrigerantes: 500 litros\n",
            "* Água: 1000 litros\n",
            "* Sucos: 200 litros\n",
            "* Coquetéis: 100 litros\n",
            "\n",
            "**Comidas**\n",
            "\n",
            "**Aperitivos**\n",
            "\n",
            "* Canapés: 300 unidades\n",
            "* Bruschettas: 250 unidades\n",
            "* Mini quiches: 200 unidades\n",
            "* Tábua de frios: 500 fatias\n",
            "\n",
            "**Pratos Principais**\n",
            "\n",
            "* Filé mignon com batatas gratinadas: 150 porções\n",
            "* Salmão grelhado com arroz de amêndoas: 150 porções\n",
            "* Lasanha à bolonhesa: 150 porções\n",
            "\n",
            "**Acompanhamentos**\n",
            "\n",
            "* Salada verde: 150 porções\n",
            "* Salada de batata: 150 porções\n",
            "* Legumes assados: 150 porções\n",
            "\n",
            "**Sobremesas**\n",
            "\n",
            "* Bolo de casamento: 150 fatias\n",
            "* Docinhos finos: 300 unidades\n",
            "* Frutas da estação: 150 porções\n"
          ]
        }
      ]
    },
    {
      "cell_type": "code",
      "source": [
        "from IPython.display import Image #Necessário adicionar a imagem no colab\n",
        "Image('/content/Gemini_Generated_Image_kp41dfkp41dfkp41 (1).jpg') #imagem gerada pelo Gemini"
      ],
      "metadata": {
        "colab": {
          "base_uri": "https://localhost:8080/",
          "height": 217
        },
        "id": "pcBzezsxoIBY",
        "outputId": "960e582e-4e93-4104-ec55-738e468e7172"
      },
      "execution_count": 13,
      "outputs": [
        {
          "output_type": "execute_result",
          "data": {
            "image/jpeg": "[encoded data removed]",
            "text/plain": [
              "<IPython.core.display.Image object>"
            ]
          },
          "metadata": {},
          "execution_count": 13
        }
      ]
    },
    {
      "cell_type": "code",
      "source": [
        "chat = model.start_chat (history=[])"
      ],
      "metadata": {
        "id": "UUZBX3zIoXig"
      },
      "execution_count": 17,
      "outputs": []
    },
    {
      "cell_type": "code",
      "source": [
        "nome = input(\"Como você prefere que eu te chame? \")\n",
        "\n",
        "print(\"\\n\")\n",
        "print(\"Olá!\",nome,\"meu nome é\",\"\\033[1m\" + \"Manu\" + \"\\033[0m\", \"assistente virtual da\",\"\\033[1m\" + \"M.Eventos 🎉🥳\" + \"\\033[0m\",\"\\n\") #comando \"\\033[1m\" \"\\033[0m\" foi usado para colocar palavras em negrito\n",
        "print(\"Por aqui vou te ajudar com sugestões de comida e bebidas para a sua festa:❤️\", \"\\n\", \"\\n\")\n",
        "print(\"Prepare-se para algumas dicas incríveis de como fazer suas perguntas da melhor maneira!\", \"\\n\", \"\\n\")#\n",
        "\n",
        "#Texto reescrito pelo Gemini\n",
        "lista_exemplos = [\"Para minha festa temática mexicana com 30 convidados, gostaria de saber a quantidade ideal de bebidas e comidas.\",\n",
        "                  \"Para o meu casamento, que terá 50 convidados, gostaria de saber a quantidade ideal de bebidas e comidas.\"]\n",
        "\n",
        "print (\"\\033[1m\" + \"1 -\" + \"\\033[0m\",lista_exemplos[0])\n",
        "print (\"\\033[1m\" + \"2 -\" + \"\\033[0m\",lista_exemplos[1],\"\\n\")\n",
        "\n",
        "\n",
        "prompt = input(\"Me passe as informações da sua festa: \").lower() # A função lower(), que converte todas as letras de uma string em minúsculas.\n",
        "\n",
        "#O código abaixo não será apresentado ao usuário, o mesmo está sendo usuado para melhor orientar na resposta da IA.\n",
        "response = chat.send_message(\"Para me ajudar a planejar as compras para a festa, preciso criar uma lista com a quantidade de itens que devo comprar. Você poderia me ajudar com isso? Você também pode me parabenizar pelo evento\")\n",
        "\n",
        "while prompt != \"fim\":\n",
        "    print(\"\\n\")\n",
        "    response = chat.send_message(prompt)\n",
        "    print (\"Tudo pronto aqui está sua lista📋\" ,response.text,\"\\n\")\n",
        "    prompt = input(\"Se tiver mais dúvidas, me manda um toque!😎 Pra finalizar, só escrever Fim: \").lower() # A função lower(), que converte todas as letras de uma string em minúsculas.\n"
      ],
      "metadata": {
        "colab": {
          "base_uri": "https://localhost:8080/",
          "height": 1000
        },
        "id": "EJzpACEVoj0A",
        "outputId": "d13dc77b-7b07-4b83-ac80-228b5a789f86"
      },
      "execution_count": 19,
      "outputs": [
        {
          "name": "stdout",
          "output_type": "stream",
          "text": [
            "Como você prefere que eu te chame? Roberto\n",
            "\n",
            "\n",
            "Olá! Roberto meu nome é \u001b[1mManu\u001b[0m assistente virtual da \u001b[1mM.Eventos 🎉🥳\u001b[0m \n",
            "\n",
            "Por aqui vou te ajudar com sugestões de comida e bebidas para a sua festa:❤️ \n",
            " \n",
            "\n",
            "Prepare-se para algumas dicas incríveis de como fazer suas perguntas da melhor maneira! \n",
            " \n",
            "\n",
            "\u001b[1m1 -\u001b[0m Para minha festa temática mexicana com 30 convidados, gostaria de saber a quantidade ideal de bebidas e comidas.\n",
            "\u001b[1m2 -\u001b[0m Para o meu casamento, que terá 50 convidados, gostaria de saber a quantidade ideal de bebidas e comidas. \n",
            "\n",
            "Me passe as informações da sua festa: ara o meu casamento, que terá 50 convidados, gostaria de saber a quantidade ideal de bebidas e comidas\n",
            "\n",
            "\n",
            "Tudo pronto aqui está sua lista📋 **Quantidades ideais de bebidas e comidas para um casamento com 50 convidados:**\n",
            "\n",
            "**Bebidas:**\n",
            "\n",
            "* Água: 50 garrafas\n",
            "* Refrigerantes: 100 latas\n",
            "* Cerveja: 150 latas\n",
            "* Vinho: 12 garrafas\n",
            "\n",
            "**Comida:**\n",
            "\n",
            "* Salgadinhos: 500 peças\n",
            "* Sanduíches: 50 unidades\n",
            "* Bolo: 50 fatias\n",
            "* Frutas: 50 porções\n",
            "\n",
            "**Sobremesas:**\n",
            "\n",
            "* Docinhos: 250 peças\n",
            "* Sorvete: 50 bolas\n",
            "\n",
            "**Outros itens:**\n",
            "\n",
            "* Pratos: 50 unidades\n",
            "* Copos: 100 unidades\n",
            "* Guardanapos: 500 unidades\n",
            "* Gelo: 2 sacos grandes\n",
            "* Sacos de lixo: 10 unidades\n",
            "\n",
            "**Dicas:**\n",
            "\n",
            "* Compre bebidas e comida com antecedência para evitar preços mais altos.\n",
            "* Considere alugar pratos, copos e talheres para economizar na limpeza.\n",
            "* Prepare alguns itens caseiros, como salgadinhos ou sobremesas, para economizar custos.\n",
            "* Peça ajuda a amigos ou familiares para preparar e servir a comida.\n",
            "* Considere contratar um serviço de bufê ou catering para facilitar o processo.\n",
            "\n",
            "Estas quantidades são uma estimativa e podem ser ajustadas com base nas preferências e orçamento do casal. Por exemplo, se os noivos esperam que seus convidados bebam mais cerveja do que vinho, eles podem aumentar a quantidade de cerveja e diminuir a quantidade de vinho.\n",
            "\n",
            "Parabéns pelo casamento! \n",
            "\n",
            "Se tiver mais dúvidas, me manda um toque!😎 Pra finalizar, só escrever Fim: remova o itens outros\n",
            "\n",
            "\n",
            "Tudo pronto aqui está sua lista📋 **Quantidades ideais de bebidas e comidas para um casamento com 50 convidados, sem itens \"outros\":**\n",
            "\n",
            "**Bebidas:**\n",
            "\n",
            "* Água: 50 garrafas\n",
            "* Refrigerantes: 100 latas\n",
            "* Cerveja: 150 latas\n",
            "* Vinho: 12 garrafas\n",
            "\n",
            "**Comida:**\n",
            "\n",
            "* Salgadinhos: 500 peças\n",
            "* Sanduíches: 50 unidades\n",
            "* Bolo: 50 fatias\n",
            "* Frutas: 50 porções\n",
            "\n",
            "**Sobremesas:**\n",
            "\n",
            "* Docinhos: 250 peças\n",
            "* Sorvete: 50 bolas\n",
            "\n",
            "**Dicas:**\n",
            "\n",
            "* Compre bebidas e comida com antecedência para evitar preços mais altos.\n",
            "* Considere alugar pratos, copos e talheres para economizar na limpeza.\n",
            "* Prepare alguns itens caseiros, como salgadinhos ou sobremesas, para economizar custos.\n",
            "* Peça ajuda a amigos ou familiares para preparar e servir a comida.\n",
            "* Considere contratar um serviço de bufê ou catering para facilitar o processo.\n",
            "\n",
            "Estas quantidades são uma estimativa e podem ser ajustadas com base nas preferências e orçamento do casal. Por exemplo, se os noivos esperam que seus convidados bebam mais cerveja do que vinho, eles podem aumentar a quantidade de cerveja e diminuir a quantidade de vinho.\n",
            "\n",
            "Parabéns pelo casamento! \n",
            "\n",
            "Se tiver mais dúvidas, me manda um toque!😎 Pra finalizar, só escrever Fim: fim\n"
          ]
        }
      ]
    },
    {
      "cell_type": "code",
      "source": [
        "#Melhorando a visualização\n",
        "#Código disponível em https://ai.google/dev/tutorials/python/quickstart#import_packages\n",
        "import textwrap\n",
        "from IPython.display import display\n",
        "from IPython.display import Markdown\n",
        "\n",
        "def to_markdown(text):\n",
        "  text = text.replace('•', '  *')\n",
        "  return Markdown(textwrap.indent(text, '> ', predicate=lambda _: True))\n",
        "\n",
        "#Imprimindo o histórico:\n",
        "for message in chat.history:\n",
        "  display(to_markdown(f'**{message.role}**: {message.parts[0].text}'))\n",
        "  print('-'*100)"
      ],
      "metadata": {
        "colab": {
          "base_uri": "https://localhost:8080/",
          "height": 1000
        },
        "id": "cvxxra0hpXaI",
        "outputId": "619d7bc7-6a14-4b77-f663-cf38aa5370e8"
      },
      "execution_count": 20,
      "outputs": [
        {
          "output_type": "display_data",
          "data": {
            "text/plain": [
              "<IPython.core.display.Markdown object>"
            ],
            "text/markdown": "> **user**: Para me ajudar a planejar as compras para a festa, preciso criar uma lista com a quantidade de itens que devo comprar. Você poderia me ajudar com isso? Você também pode me parabenizar pelo evento"
          },
          "metadata": {}
        },
        {
          "output_type": "stream",
          "name": "stdout",
          "text": [
            "----------------------------------------------------------------------------------------------------\n"
          ]
        },
        {
          "output_type": "display_data",
          "data": {
            "text/plain": [
              "<IPython.core.display.Markdown object>"
            ],
            "text/markdown": "> **model**: **Parabéns pelo seu evento!** Que seja um momento especial e inesquecível.\n> \n> Para ajudá-lo a planejar as compras, criei uma lista de itens essenciais e suas quantidades recomendadas:\n> \n> **Bebidas:**\n> \n> * Água: 1 garrafa por pessoa\n> * Refrigerantes: 2 latas por pessoa\n> * Cerveja: 3 latas por pessoa\n> * Vinho: 1 garrafa para cada 4 pessoas\n> \n> **Comida:**\n> \n> * Salgadinhos: 10 peças por pessoa\n> * Sanduíches: 1 por pessoa\n> * Bolo: 1 fatia por pessoa\n> * Frutas: 1 porção por pessoa\n> \n> **Sobremesas:**\n> \n> * Docinhos: 5 peças por pessoa\n> * Sorvete: 1 bola por pessoa\n> \n> **Outros itens:**\n> \n> * Pratos: 1 por pessoa\n> * Copos: 2 por pessoa\n> * Guardanapos: 10 por pessoa\n> * Gelo: 1 saco grande\n> * Sacos de lixo: 5\n> \n> **Quantidades adicionais para eventos maiores:**\n> \n> * Para eventos com mais de 50 pessoas, aumente as quantidades em 20%.\n> * Para eventos com mais de 100 pessoas, aumente as quantidades em 50%.\n> \n> **Dicas:**\n> \n> * Compre bebidas e comida com antecedência para evitar preços mais altos.\n> * Considere alugar pratos, copos e talheres para economizar na limpeza.\n> * Prepare alguns itens caseiros, como salgadinhos ou sobremesas, para economizar custos.\n> * Peça ajuda a amigos ou familiares para preparar e servir a comida.\n> \n> Esta lista é um ponto de partida, então ajuste as quantidades conforme necessário com base no número de convidados, preferências e orçamento."
          },
          "metadata": {}
        },
        {
          "output_type": "stream",
          "name": "stdout",
          "text": [
            "----------------------------------------------------------------------------------------------------\n"
          ]
        },
        {
          "output_type": "display_data",
          "data": {
            "text/plain": [
              "<IPython.core.display.Markdown object>"
            ],
            "text/markdown": "> **user**: festa de casamento para 50 pessoas "
          },
          "metadata": {}
        },
        {
          "output_type": "stream",
          "name": "stdout",
          "text": [
            "----------------------------------------------------------------------------------------------------\n"
          ]
        },
        {
          "output_type": "display_data",
          "data": {
            "text/plain": [
              "<IPython.core.display.Markdown object>"
            ],
            "text/markdown": "> **model**: **Lista de compras para festa de casamento para 50 pessoas:**\n> \n> **Bebidas:**\n> \n> * Água: 50 garrafas\n> * Refrigerantes: 100 latas\n> * Cerveja: 150 latas\n> * Vinho: 12 garrafas\n> \n> **Comida:**\n> \n> * Salgadinhos: 500 peças\n> * Sanduíches: 50 unidades\n> * Bolo: 50 fatias\n> * Frutas: 50 porções\n> \n> **Sobremesas:**\n> \n> * Docinhos: 250 peças\n> * Sorvete: 50 bolas\n> \n> **Outros itens:**\n> \n> * Pratos: 50 unidades\n> * Copos: 100 unidades\n> * Guardanapos: 500 unidades\n> * Gelo: 2 sacos grandes\n> * Sacos de lixo: 10 unidades\n> \n> **Quantidades adicionais:**\n> \n> * Aumente as quantidades em 20% para um total de 60 pessoas.\n> \n> **Dicas:**\n> \n> * Compre bebidas e comida com antecedência para evitar preços mais altos.\n> * Considere alugar pratos, copos e talheres para economizar na limpeza.\n> * Prepare alguns itens caseiros, como salgadinhos ou sobremesas, para economizar custos.\n> * Peça ajuda a amigos ou familiares para preparar e servir a comida.\n> * Considere contratar um serviço de bufê ou catering para facilitar o processo.\n> \n> Esta lista é um ponto de partida, então ajuste as quantidades conforme necessário com base nas preferências e orçamento. Parabéns pelo seu casamento!"
          },
          "metadata": {}
        },
        {
          "output_type": "stream",
          "name": "stdout",
          "text": [
            "----------------------------------------------------------------------------------------------------\n"
          ]
        },
        {
          "output_type": "display_data",
          "data": {
            "text/plain": [
              "<IPython.core.display.Markdown object>"
            ],
            "text/markdown": "> **user**: Para me ajudar a planejar as compras para a festa, preciso criar uma lista com a quantidade de itens que devo comprar. Você poderia me ajudar com isso? Você também pode me parabenizar pelo evento"
          },
          "metadata": {}
        },
        {
          "output_type": "stream",
          "name": "stdout",
          "text": [
            "----------------------------------------------------------------------------------------------------\n"
          ]
        },
        {
          "output_type": "display_data",
          "data": {
            "text/plain": [
              "<IPython.core.display.Markdown object>"
            ],
            "text/markdown": "> **model**: **Parabéns pelo seu evento!** Que seja um momento especial e inesquecível.\n> \n> Para ajudá-lo a planejar as compras, criei uma lista de itens essenciais e suas quantidades recomendadas:\n> \n> **Bebidas:**\n> \n> * Água: 1 garrafa por pessoa\n> * Refrigerantes: 2 latas por pessoa\n> * Cerveja: 3 latas por pessoa\n> * Vinho: 1 garrafa para cada 4 pessoas\n> \n> **Comida:**\n> \n> * Salgadinhos: 10 peças por pessoa\n> * Sanduíches: 1 por pessoa\n> * Bolo: 1 fatia por pessoa\n> * Frutas: 1 porção por pessoa\n> \n> **Sobremesas:**\n> \n> * Docinhos: 5 peças por pessoa\n> * Sorvete: 1 bola por pessoa\n> \n> **Outros itens:**\n> \n> * Pratos: 1 por pessoa\n> * Copos: 2 por pessoa\n> * Guardanapos: 10 por pessoa\n> * Gelo: 1 saco grande\n> * Sacos de lixo: 5\n> \n> **Quantidades adicionais para eventos maiores:**\n> \n> * Para eventos com mais de 50 pessoas, aumente as quantidades em 20%.\n> * Para eventos com mais de 100 pessoas, aumente as quantidades em 50%.\n> \n> **Dicas:**\n> \n> * Compre bebidas e comida com antecedência para evitar preços mais altos.\n> * Considere alugar pratos, copos e talheres para economizar na limpeza.\n> * Prepare alguns itens caseiros, como salgadinhos ou sobremesas, para economizar custos.\n> * Peça ajuda a amigos ou familiares para preparar e servir a comida.\n> \n> Esta lista é um ponto de partida, então ajuste as quantidades conforme necessário com base no número de convidados, preferências e orçamento."
          },
          "metadata": {}
        },
        {
          "output_type": "stream",
          "name": "stdout",
          "text": [
            "----------------------------------------------------------------------------------------------------\n"
          ]
        },
        {
          "output_type": "display_data",
          "data": {
            "text/plain": [
              "<IPython.core.display.Markdown object>"
            ],
            "text/markdown": "> **user**: ara o meu casamento, que terá 50 convidados, gostaria de saber a quantidade ideal de bebidas e comidas"
          },
          "metadata": {}
        },
        {
          "output_type": "stream",
          "name": "stdout",
          "text": [
            "----------------------------------------------------------------------------------------------------\n"
          ]
        },
        {
          "output_type": "display_data",
          "data": {
            "text/plain": [
              "<IPython.core.display.Markdown object>"
            ],
            "text/markdown": "> **model**: **Quantidades ideais de bebidas e comidas para um casamento com 50 convidados:**\n> \n> **Bebidas:**\n> \n> * Água: 50 garrafas\n> * Refrigerantes: 100 latas\n> * Cerveja: 150 latas\n> * Vinho: 12 garrafas\n> \n> **Comida:**\n> \n> * Salgadinhos: 500 peças\n> * Sanduíches: 50 unidades\n> * Bolo: 50 fatias\n> * Frutas: 50 porções\n> \n> **Sobremesas:**\n> \n> * Docinhos: 250 peças\n> * Sorvete: 50 bolas\n> \n> **Outros itens:**\n> \n> * Pratos: 50 unidades\n> * Copos: 100 unidades\n> * Guardanapos: 500 unidades\n> * Gelo: 2 sacos grandes\n> * Sacos de lixo: 10 unidades\n> \n> **Dicas:**\n> \n> * Compre bebidas e comida com antecedência para evitar preços mais altos.\n> * Considere alugar pratos, copos e talheres para economizar na limpeza.\n> * Prepare alguns itens caseiros, como salgadinhos ou sobremesas, para economizar custos.\n> * Peça ajuda a amigos ou familiares para preparar e servir a comida.\n> * Considere contratar um serviço de bufê ou catering para facilitar o processo.\n> \n> Estas quantidades são uma estimativa e podem ser ajustadas com base nas preferências e orçamento do casal. Por exemplo, se os noivos esperam que seus convidados bebam mais cerveja do que vinho, eles podem aumentar a quantidade de cerveja e diminuir a quantidade de vinho.\n> \n> Parabéns pelo casamento!"
          },
          "metadata": {}
        },
        {
          "output_type": "stream",
          "name": "stdout",
          "text": [
            "----------------------------------------------------------------------------------------------------\n"
          ]
        },
        {
          "output_type": "display_data",
          "data": {
            "text/plain": [
              "<IPython.core.display.Markdown object>"
            ],
            "text/markdown": "> **user**: remova o itens outros"
          },
          "metadata": {}
        },
        {
          "output_type": "stream",
          "name": "stdout",
          "text": [
            "----------------------------------------------------------------------------------------------------\n"
          ]
        },
        {
          "output_type": "display_data",
          "data": {
            "text/plain": [
              "<IPython.core.display.Markdown object>"
            ],
            "text/markdown": "> **model**: **Quantidades ideais de bebidas e comidas para um casamento com 50 convidados, sem itens \"outros\":**\n> \n> **Bebidas:**\n> \n> * Água: 50 garrafas\n> * Refrigerantes: 100 latas\n> * Cerveja: 150 latas\n> * Vinho: 12 garrafas\n> \n> **Comida:**\n> \n> * Salgadinhos: 500 peças\n> * Sanduíches: 50 unidades\n> * Bolo: 50 fatias\n> * Frutas: 50 porções\n> \n> **Sobremesas:**\n> \n> * Docinhos: 250 peças\n> * Sorvete: 50 bolas\n> \n> **Dicas:**\n> \n> * Compre bebidas e comida com antecedência para evitar preços mais altos.\n> * Considere alugar pratos, copos e talheres para economizar na limpeza.\n> * Prepare alguns itens caseiros, como salgadinhos ou sobremesas, para economizar custos.\n> * Peça ajuda a amigos ou familiares para preparar e servir a comida.\n> * Considere contratar um serviço de bufê ou catering para facilitar o processo.\n> \n> Estas quantidades são uma estimativa e podem ser ajustadas com base nas preferências e orçamento do casal. Por exemplo, se os noivos esperam que seus convidados bebam mais cerveja do que vinho, eles podem aumentar a quantidade de cerveja e diminuir a quantidade de vinho.\n> \n> Parabéns pelo casamento!"
          },
          "metadata": {}
        },
        {
          "output_type": "stream",
          "name": "stdout",
          "text": [
            "----------------------------------------------------------------------------------------------------\n"
          ]
        }
      ]
    }
  ]
}